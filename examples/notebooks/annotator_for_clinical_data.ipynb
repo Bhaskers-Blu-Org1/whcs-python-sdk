{
 "cells": [
  {
   "cell_type": "markdown",
   "metadata": {},
   "source": [
    "# IBM Watson Annotator for Clinical Data Notebook\n",
    "\n",
    "### API Index:\n",
    "\n",
    "* [Analyze](#analyze)\n",
    "* [Profiles](#profiles)\n",
    "* [Annotator Flows](#flows)\n",
    "* [Annotators](#annotators)\n",
    "* [User Data](#user_data)\n",
    "* [Health Check](#health_check)\n",
    "\n",
    "## Setup"
   ]
  },
  {
   "cell_type": "code",
   "execution_count": 1,
   "metadata": {},
   "outputs": [],
   "source": [
    "from ibm_whcs_sdk import annotator_for_clinical_data as acd\n",
    "\n",
    "# Instantiate service instance\n",
    "# Replace {version}, {iam_apikey}, and {url} below\n",
    "service = acd.AnnotatorForClinicalDataV1 (\n",
    "    iam_apikey = \"xxx\",\n",
    "    url = \"https://us-south.wh-acd.cloud.ibm.com/wh-acd/api\"\n",
    ")"
   ]
  },
  {
   "cell_type": "markdown",
   "metadata": {},
   "source": [
    "---\n",
    "<a id='analyze'></a>\n",
    "\n",
    "# Analyze APIs\n",
    "\n",
    "### Analyze with dynamic annotator flow\n",
    "Annotator flow is defined within the request body - requires json content-type\n"
   ]
  },
  {
   "cell_type": "code",
   "execution_count": null,
   "metadata": {},
   "outputs": [],
   "source": [
    "# POST /analyze\n",
    "\n",
    "text = \"Patient has lung cancer, but did not smoke. She may consider chemotherapy as part of a treatment plan.\"\n",
    "\n",
    "try:\n",
    "    anno_cd = acd.Annotator(name=\"concept_detection\")\n",
    "    anno_neg = acd.Annotator(name=\"negation\")\n",
    "    flow_arr = [\n",
    "        acd.FlowEntry(annotator=anno_cd),\n",
    "        acd.FlowEntry(annotator=anno_neg)\n",
    "    ]\n",
    "\n",
    "    flow = acd.Flow(flow_arr, False)\n",
    "    \n",
    "    resp = service.analyze(text, flow)\n",
    "    concepts = resp.concepts\n",
    "    \n",
    "    for concept in concepts:\n",
    "        print(\"Type: \", concept.type, \"~ Name: \", concept.preferred_name)\n",
    "    \n",
    "except acd.ACDException as ex:\n",
    "   print (\"Error Occurred:  Code \", ex.code, \" Message \", ex.message, \" CorrelationId \", ex.correlation_id)"
   ]
  },
  {
   "cell_type": "markdown",
   "metadata": {},
   "source": [
    "### Analyze with persisted or out-of-the-box annotator flows\n",
    "\n",
    "Request body may contain text/plain content-type when referencing a persisted flow in the analyze request"
   ]
  },
  {
   "cell_type": "code",
   "execution_count": null,
   "metadata": {},
   "outputs": [],
   "source": [
    "# POST /analyze/{flow_id}\n",
    "\n",
    "flowId = \"wh_acd.ibm_clinical_insights_v1.0_standard_flow\"\n",
    "text = \"Patient has lung cancer, but did not smoke. She may consider chemotherapy as part of a treatment plan.\"\n",
    "\n",
    "try:\n",
    "    response = service.analyze_with_flow(flowId, text)\n",
    "    concepts = response.concepts\n",
    "    for concept in concepts:\n",
    "        print(\"Type: \", concept.type, \"- Name: \", concept.preferred_name)\n",
    "        \n",
    "except acd.ACDException as ex:\n",
    "   print (\"Error Occurred:  Code \", ex.code, \" Message \", ex.message, \" CorrelationId \", ex.correlation_id)"
   ]
  },
  {
   "cell_type": "markdown",
   "metadata": {},
   "source": [
    "---\n",
    "<a id='profiles'></a>\n",
    "\n",
    "# Profile APIs\n",
    "\n",
    "## Get Profiles\n"
   ]
  },
  {
   "cell_type": "code",
   "execution_count": null,
   "metadata": {},
   "outputs": [],
   "source": [
    "# GET /profiles\n",
    "\n",
    "try:\n",
    "   resp = service.get_profiles()\n",
    "   rslt = resp.result\n",
    "\n",
    "   for id, profile in rslt.items():\n",
    "       print(\"Profile:\",id)\n",
    "\n",
    "except acd.ACDException as ex:\n",
    "   print (\"Error Code:\", ex.code, \" Message:\", ex.message, \" Correlation Id:\", ex.correlation_id)"
   ]
  },
  {
   "cell_type": "markdown",
   "metadata": {},
   "source": [
    "### Get Profile\n"
   ]
  },
  {
   "cell_type": "code",
   "execution_count": null,
   "metadata": {},
   "outputs": [],
   "source": [
    "# GET /profiles/{id}\n",
    "try:\n",
    "    resp = service.get_profile(\"wh_acd.ibm_clinical_insights_v1.0_profile\")\n",
    "    rslt = resp.result\n",
    "    print(\"Id:\", rslt['id'])\n",
    "    print(\"Name:\", rslt['name'])\n",
    "    print(\"Description:\", rslt['description'])\n",
    "    \n",
    "except acd.ACDException as ex:\n",
    "   print (\"Error Code:\", ex.code, \" Message:\", ex.message, \" Correlation Id:\", ex.correlation_id)"
   ]
  },
  {
   "cell_type": "markdown",
   "metadata": {},
   "source": [
    "### Create Profile\n"
   ]
  },
  {
   "cell_type": "code",
   "execution_count": null,
   "metadata": {},
   "outputs": [],
   "source": [
    "# POST /profiles\n",
    "\n",
    "try:\n",
    "    prof_anno = acd.Annotator(\n",
    "        name=\"concept_detection\",\n",
    "        parameters = {\"libraries\": [\"umls.latest\"]})\n",
    "    \n",
    "    prof_anno_arr = [ prof_anno ]\n",
    "    \n",
    "    resp = service.create_profile (\n",
    "        \"my_profile\",\n",
    "        \"my_profile_name\",\n",
    "        \"my profile description\",\n",
    "        prof_anno_arr)\n",
    "    \n",
    "    if( resp.status_code >=200):\n",
    "        print(\"creation is successful\")\n",
    "    else:\n",
    "        print(\"creation fails\")\n",
    "    \n",
    "except acd.ACDException as ex:\n",
    "   print (\"Error Code:\", ex.code, \" Message:\", ex.message, \" Correlation Id:\", ex.correlation_id)"
   ]
  },
  {
   "cell_type": "markdown",
   "metadata": {},
   "source": [
    "### Update Profile\n"
   ]
  },
  {
   "cell_type": "code",
   "execution_count": null,
   "metadata": {},
   "outputs": [],
   "source": [
    "# PUT /profiles/{id}\n",
    "\n",
    "try:\n",
    "\n",
    "    anno_cd = acd.Annotator(\"concept_detection\", parameters = {\"libraries\": [\"umls.latest\"]})\n",
    "    anno_attr = acd.Annotator(\"attribute_detection\")\n",
    "    \n",
    "    prof_annos = [ anno_cd, anno_attr ]\n",
    "    \n",
    "    resp = service.update_profile(\n",
    "        \"my_profile\",\n",
    "        \"my profile_name\",\n",
    "        \"my profile description - UPDATE\",\n",
    "        prof_annos)\n",
    "    \n",
    "    if( resp.status_code >=200):\n",
    "        print(\"update is successful\")\n",
    "    else:\n",
    "        print(\"update fails\")\n",
    "    \n",
    "except acd.ACDException as ex:\n",
    "   print (\"Error Code:\", ex.code, \" Message:\", ex.message, \" Correlation Id:\", ex.correlation_id)"
   ]
  },
  {
   "cell_type": "markdown",
   "metadata": {},
   "source": [
    "### Delete Profile\n"
   ]
  },
  {
   "cell_type": "code",
   "execution_count": null,
   "metadata": {},
   "outputs": [],
   "source": [
    "# DELETE /profiles/{id}\n",
    "\n",
    "try:\n",
    "    \n",
    "    resp = service.delete_profile(\"my_profile\")\n",
    "    print(\"Response Code:\",resp.status_code)\n",
    "    \n",
    "    if( resp.status_code >=200):\n",
    "        print(\"deletion is successful\")\n",
    "    else:\n",
    "        print(\"deletion fails\")\n",
    "    \n",
    "except acd.ACDException as ex:\n",
    "   print (\"Error Code:\", ex.code, \" Message:\", ex.message, \" Correlation Id:\", ex.correlation_id)"
   ]
  },
  {
   "cell_type": "markdown",
   "metadata": {},
   "source": [
    "---\n",
    "<a id='flows'></a>\n",
    "\n",
    "# Flow APIs\n",
    "\n",
    "### Get Flows\n"
   ]
  },
  {
   "cell_type": "code",
   "execution_count": null,
   "metadata": {},
   "outputs": [],
   "source": [
    "# GET /flows\n",
    "\n",
    "try:\n",
    "    resp = service.get_flows()\n",
    "    rslt = resp.result\n",
    "    for flow in rslt:\n",
    "        print(\"Flow ID:\",flow)\n",
    "        \n",
    "except acd.ACDException as ex:\n",
    "    print (\"Error Code:\", ex.code, \" Message:\", ex.message, \" Correlation Id:\", ex.correlation_id)"
   ]
  },
  {
   "cell_type": "markdown",
   "metadata": {},
   "source": [
    "### Get Flow\n"
   ]
  },
  {
   "cell_type": "code",
   "execution_count": null,
   "metadata": {},
   "outputs": [],
   "source": [
    "# GET /flows/{id}\n",
    "\n",
    "try:\n",
    "    resp = service.get_flow(\"wh_acd.ibm_clinical_insights_v1.0_standard_flow\")\n",
    "    rslt = resp.result\n",
    "    print(\"Id:\", rslt['id'])\n",
    "    print(\"Name:\", rslt['name'])\n",
    "    print(\"Desc:\", rslt['description'])\n",
    "    \n",
    "    for anno_flow in rslt['annotatorFlows']:\n",
    "        flow = anno_flow['flow']\n",
    "        flow_entries = flow['elements']\n",
    "        for flow_entry in flow_entries:\n",
    "            print(\"Annotator: \", flow_entry['annotator']['name'])\n",
    "            \n",
    "except acd.ACDException as ex:\n",
    "    print (\"Error Code:\", ex.code, \" Message:\", ex.message, \" Correlation Id:\", ex.correlation_id)"
   ]
  },
  {
   "cell_type": "markdown",
   "metadata": {},
   "source": [
    "### Create Flow\n"
   ]
  },
  {
   "cell_type": "code",
   "execution_count": null,
   "metadata": {},
   "outputs": [],
   "source": [
    "# POST /flows\n",
    "\n",
    "try:\n",
    "    anno_cd = acd.Annotator(\"concept_detection\")\n",
    "    anno_neg = acd.Annotator(\"negation\")\n",
    "    flow_entry_cd = acd.FlowEntry(annotator=anno_cd)\n",
    "    flow_entry_neg = acd.FlowEntry(annotator=anno_neg)\n",
    "    flow_entries = [ flow_entry_cd, flow_entry_neg ]\n",
    "    flow = acd.Flow(flow_entries, False)\n",
    "    anno_flow = acd.AnnotatorFlow(flow=flow)\n",
    "    anno_flows = [anno_flow]\n",
    "    resp = service.create_persisted_flow(\n",
    "        \"my_flow\",\n",
    "        \"my flow_name\",\n",
    "        \"my flow description\",\n",
    "        anno_flows)\n",
    "    \n",
    "    print(\"Response Code:\",resp.status_code)    \n",
    "    if( resp.status_code >=200):\n",
    "        print(\"creation is successful\")\n",
    "    else:\n",
    "        print(\"creation fails\")\n",
    "    print(resp.result)\n",
    "    \n",
    "except acd.ACDException as ex:\n",
    "   print (\"Error Code:\", ex.code, \" Message:\", ex.message, \" Correlation Id:\", ex.correlation_id)"
   ]
  },
  {
   "cell_type": "markdown",
   "metadata": {},
   "source": [
    "### Update Flow\n"
   ]
  },
  {
   "cell_type": "code",
   "execution_count": null,
   "metadata": {},
   "outputs": [],
   "source": [
    "# PUT /flows/{id}\n",
    "\n",
    "try:\n",
    "    \n",
    "    anno_med = acd.Annotator(name=\"medication\")\n",
    "    anno_neg = acd.Annotator(name=\"negation\")\n",
    "    flow_entry_med = acd.FlowEntry(annotator=anno_med)\n",
    "    flow_entry_neg = acd.FlowEntry(annotator=anno_neg)\n",
    "    flow_entries = [ flow_entry_med, flow_entry_neg ]\n",
    "    flow = acd.Flow(flow_entries, False)\n",
    "    anno_flow = acd.AnnotatorFlow(flow=flow)\n",
    "    anno_flows = [anno_flow]\n",
    "    \n",
    "    service.update_persisted_flow(\n",
    "        \"my_flow\",\n",
    "        \"my flow name\",\n",
    "        \"my flow name - UPDATE\",\n",
    "        anno_flows)\n",
    "\n",
    "    print(\"Response Code:\",resp.status_code)\n",
    "    if( resp.status_code >=200  ):\n",
    "        print(\"update is successful\")\n",
    "    else:\n",
    "        print(\"update fails\")\n",
    "\n",
    "    \n",
    "except acd.ACDException as ex:\n",
    "    print (\"Error Code: \", ex.code, \" Message: \", ex.message, \" Correlation Id: \", ex.correlation_id)"
   ]
  },
  {
   "cell_type": "markdown",
   "metadata": {},
   "source": [
    "### Delete Flow\n"
   ]
  },
  {
   "cell_type": "code",
   "execution_count": null,
   "metadata": {},
   "outputs": [],
   "source": [
    "# DELETE /flows/{id}\n",
    "\n",
    "try:\n",
    "    resp = service.delete_persisted_flow(\"my_flow\")\n",
    "    \n",
    "    print(\"Response Code:\",resp.status_code)\n",
    "    if( resp.status_code >=200):\n",
    "        print(\"deletion is successful\")\n",
    "    else:\n",
    "        print(\"deletion fails\")\n",
    "    \n",
    "except acd.ACDException as ex:\n",
    "    print (\"Error Code: \", ex.code, \" Message: \", ex.message, \" Correlation Id: \", ex.correlation_id)"
   ]
  },
  {
   "cell_type": "markdown",
   "metadata": {},
   "source": [
    "---\n",
    "<a id='annotators'></a>\n",
    "\n",
    "# Annotators\n",
    "\n",
    "### GET Annotators\n"
   ]
  },
  {
   "cell_type": "code",
   "execution_count": null,
   "metadata": {},
   "outputs": [],
   "source": [
    "# GET /annotators\n",
    "\n",
    "try:\n",
    "    \n",
    "    resp = service.list_annotators()\n",
    "    rslt = resp.result\n",
    "    for annotator in rslt:\n",
    "        print(annotator)\n",
    "    \n",
    "except acd.ACDException as ex:\n",
    "    print (\"Error Code: \", ex.code, \" Message: \", ex.message, \" Correlation Id: \", ex.correlation_id)"
   ]
  },
  {
   "cell_type": "markdown",
   "metadata": {},
   "source": [
    "### GET Annotator\n"
   ]
  },
  {
   "cell_type": "code",
   "execution_count": null,
   "metadata": {},
   "outputs": [],
   "source": [
    "# GET /annotators/{id}\n",
    "\n",
    "try:\n",
    "    \n",
    "    resp = service.get_annotator(\"concept_detection\")\n",
    "    rslt = resp.result\n",
    "    print(\"Description:\",rslt['description'])\n",
    "    \n",
    "except acd.ACDException as ex:\n",
    "    print (\"Error Code: \", ex.code, \" Message: \", ex.message, \" Correlation Id: \", ex.correlation_id)"
   ]
  },
  {
   "cell_type": "markdown",
   "metadata": {},
   "source": [
    "---\n",
    "<a id='user_data'></a>\n",
    "\n",
    "### Delete User Data"
   ]
  },
  {
   "cell_type": "code",
   "execution_count": null,
   "metadata": {},
   "outputs": [],
   "source": [
    "# DELETE /user_data\n",
    "\n",
    "try:\n",
    "    resp = service.delete_user_data()\n",
    "    \n",
    "    print(\"Response Code:\",resp.status_code)\n",
    "    if( resp.status_code >=200):\n",
    "        print(\"checking is successful\")\n",
    "    else:\n",
    "        print(\"checking fails\")\n",
    "    \n",
    "except acd.ACDException as ex:\n",
    "    print (\"Error Code: \", ex.code, \" Message: \", ex.message, \" Correlation Id: \", ex.correlation_id)"
   ]
  },
  {
   "cell_type": "markdown",
   "metadata": {},
   "source": [
    "---\n",
    "<a id='health_check'></a>\n",
    "\n",
    "### Health Check Status"
   ]
  },
  {
   "cell_type": "code",
   "execution_count": null,
   "metadata": {},
   "outputs": [],
   "source": [
    "# GET /status/health_check\n",
    "\n",
    "try:\n",
    "    resp = service.get_health_check_status()\n",
    "    \n",
    "    print(\"Response Code:\",resp.status_code)\n",
    "    if( resp.status_code >=200):\n",
    "        print(\"checking is successful\")\n",
    "    else:\n",
    "        print(\"checking fails\")\n",
    "    \n",
    "except acd.ACDException as ex:\n",
    "    print (\"Error Code: \", ex.code, \" Message: \", ex.message, \" Correlation Id: \", ex.correlation_id)"
   ]
  },
  {
   "cell_type": "code",
   "execution_count": null,
   "metadata": {},
   "outputs": [],
   "source": []
  }
 ],
 "metadata": {
  "kernelspec": {
   "display_name": "Python 3",
   "language": "python",
   "name": "python3"
  },
  "language_info": {
   "codemirror_mode": {
    "name": "ipython",
    "version": 3
   },
   "file_extension": ".py",
   "mimetype": "text/x-python",
   "name": "python",
   "nbconvert_exporter": "python",
   "pygments_lexer": "ipython3",
   "version": "3.7.7"
  }
 },
 "nbformat": 4,
 "nbformat_minor": 2
}
